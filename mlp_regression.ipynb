{
 "cells": [
  {
   "cell_type": "markdown",
   "id": "88b7c86e-e9a4-4996-a17e-c02987a827bc",
   "metadata": {},
   "source": [
    "# numpy实现MLP回归"
   ]
  },
  {
   "cell_type": "markdown",
   "id": "d630b5d6-2cb6-458a-bd7f-55bca5db6e65",
   "metadata": {},
   "source": [
    "## 安装依赖"
   ]
  },
  {
   "cell_type": "code",
   "execution_count": null,
   "id": "71f84faa-7c4c-4230-9cef-c51fc5a6de87",
   "metadata": {},
   "outputs": [],
   "source": [
    "import numpy as np\n",
    "import pandas as pd\n",
    "import math\n",
    "from sklearn.model_selection import train_test_split\n",
    "from sklearn.preprocessing import StandardScaler\n",
    "from sklearn.metrics import mean_squared_error"
   ]
  },
  {
   "cell_type": "markdown",
   "id": "9ada269c-d708-4310-be23-7dee8dff0eda",
   "metadata": {},
   "source": [
    "## 获取数据集"
   ]
  },
  {
   "cell_type": "markdown",
   "id": "444b47eb-59ac-4d73-a6cd-cbbc97f98e1d",
   "metadata": {},
   "source": [
    "因为keras现在不能直接调用load_boston()函数获取数据\n",
    "我们选择使用url加载数据集并划分训练集和测试集\n",
    "之后将特征标准化"
   ]
  },
  {
   "cell_type": "code",
   "execution_count": null,
   "id": "4e75351f-9925-4afe-8dc3-85b148062e39",
   "metadata": {},
   "outputs": [],
   "source": [
    "def load_data():\n",
    "    data_url = \"http://lib.stat.cmu.edu/datasets/boston\"\n",
    "    raw_df = pd.read_csv(data_url, sep=\"\\s+\", skiprows=22, header=None)\n",
    "    print(raw_df.shape)\n",
    "    data = np.hstack([raw_df.values[::2, :], raw_df.values[1::2, :2]])\n",
    "    target = raw_df.values[1::2, 2]\n",
    "    X = data\n",
    "    y = target\n",
    "    X_train, X_test, y_train, y_test = train_test_split(X, y, test_size=0.2, random_state=42)\n",
    "    #标准化特征\n",
    "    scale = StandardScaler()\n",
    "    X_train_s = scale.fit_transform(X_train)\n",
    "    X_test_s = scale.transform(X_test)\n",
    "    return X_train_s, y_train, X_test_s, y_test"
   ]
  },
  {
   "cell_type": "markdown",
   "id": "078e20fd-4a20-4596-9daa-63cbec8703c9",
   "metadata": {},
   "source": [
    "## 初始化训练参数 定义激活函数"
   ]
  },
  {
   "cell_type": "code",
   "execution_count": null,
   "id": "584faf93-67de-4351-b8a1-5c67783f05b0",
   "metadata": {},
   "outputs": [],
   "source": [
    "def initialize_parameters(layer_dims):\n",
    "    parameters = {}\n",
    "    L = len(layer_dims)\n",
    "    for l in range(1, L):\n",
    "        parameters['W' + str(l)] = np.random.randn(layer_dims[l], layer_dims[l-1]) * 0.01\n",
    "        parameters['b' + str(l)] = np.zeros((layer_dims[l], 1))\n",
    "    return parameters\n",
    "\n",
    "def relu(x):\n",
    "    return np.maximum(0, x)\n",
    "\n",
    "def relu_derivative(x):\n",
    "    return np.where(x < 0, 0, 1)\n",
    "\n",
    "def linear_activation_forward(A_prev, W, b):\n",
    "    Z = np.dot(W, A_prev) + b\n",
    "    A = relu(Z)  # 使用 Relu 激活函数\n",
    "    return A\n",
    "\n",
    "def compute_cost(AL, Y):\n",
    "    m = Y.shape[0]\n",
    "    cost = np.mean((AL - Y)**2)\n",
    "    return cost\n",
    "\n",
    "def linear_activation_backward(dA, A_prev, W, A):\n",
    "    m = A.shape[1]\n",
    "    dZ = dA * relu_derivative(A)\n",
    "    dW = np.dot(dZ, A_prev.T) / m\n",
    "    db = np.sum(dZ, axis=1, keepdims=True) / m\n",
    "    dA_prev = np.dot(W.T, dZ)\n",
    "    return dA_prev, dW, db\n",
    "\n",
    "def update_parameters(parameters, grads, learning_rate):\n",
    "    L = len(parameters) // 2\n",
    "    for l in range(L):\n",
    "        parameters[\"W\" + str(l+1)] -= learning_rate * grads[\"dW\" + str(l+1)]\n",
    "        parameters[\"b\" + str(l+1)] -= learning_rate * grads[\"db\" + str(l+1)]\n",
    "    return parameters"
   ]
  },
  {
   "cell_type": "markdown",
   "id": "81ca658f-0173-4797-81ec-46e9fc44a329",
   "metadata": {},
   "source": [
    "## MLP模型"
   ]
  },
  {
   "cell_type": "code",
   "execution_count": null,
   "id": "0acda76a-ac7c-4582-969b-f24725eda4c9",
   "metadata": {},
   "outputs": [],
   "source": [
    "def MLP_model(X, Y, layers_dims, learning_rate = 0.0075, num_iterations = 5000):\n",
    "    np.random.seed(1)\n",
    "    costs = []\n",
    "    parameters = initialize_parameters(layers_dims)\n",
    "    for i in range(num_iterations):\n",
    "        A = X.T\n",
    "        cache = []\n",
    "        # 前向传播\n",
    "        for l in range(1, len(layers_dims)):\n",
    "            A_prev = A\n",
    "            A = linear_activation_forward(A_prev, parameters['W' + str(l)], parameters['b' + str(l)])\n",
    "            cache.append((A_prev, A, parameters['W' + str(l)], parameters['b' + str(l)]))\n",
    "\n",
    "        cost = compute_cost(A, Y)\n",
    "        costs.append(cost)\n",
    "\n",
    "        # 启动反向传播\n",
    "        grads = {}\n",
    "        dA = A - Y.reshape(A.shape) \n",
    "        for l in reversed(range(len(cache))):\n",
    "            A_prev, A, W, b = cache[l]\n",
    "            dA, dW, db = linear_activation_backward(dA, A_prev, W, A)\n",
    "            grads[\"dW\" + str(l+1)] = dW\n",
    "            grads[\"db\" + str(l+1)] = db\n",
    "\n",
    "        parameters = update_parameters(parameters, grads, learning_rate)\n",
    "\n",
    "        if i % 100 == 0:\n",
    "            print(\"Cost after iteration {}: {}\".format(i, cost))\n",
    "\n",
    "    return parameters, costs"
   ]
  },
  {
   "cell_type": "markdown",
   "id": "4ce8a946-ff59-4ef8-b710-e7f68325ab37",
   "metadata": {},
   "source": [
    "## 读取数据进行训练"
   ]
  },
  {
   "cell_type": "code",
   "execution_count": null,
   "id": "32496ad6-eecd-4657-8f2d-217cae0e5db9",
   "metadata": {},
   "outputs": [],
   "source": [
    "X_train, y_train, X_test, y_test = load_data()\n",
    "layers_dims = [13, 100, 50, 1]  # 输入层13个特征、输出层1个单元\n",
    "parameters, costs = MLP_model(X_train, y_train, layers_dims)"
   ]
  },
  {
   "cell_type": "markdown",
   "id": "82eb3a87-76a8-4441-a9ad-945ce527e690",
   "metadata": {},
   "source": [
    "## 预测并对结果进行评价"
   ]
  },
  {
   "cell_type": "code",
   "execution_count": 4,
   "id": "04b3623a-4b0c-4b3b-bae5-a4921db3c0be",
   "metadata": {},
   "outputs": [
    {
     "name": "stdout",
     "output_type": "stream",
     "text": [
      "(1012, 11)\n",
      "Cost after iteration 0: 606.5528045123015\n",
      "Cost after iteration 100: 20.098778089310056\n",
      "Cost after iteration 200: 20.362578282122755\n",
      "Cost after iteration 300: 19.849909108458384\n",
      "Cost after iteration 400: 19.20070716232758\n",
      "Cost after iteration 500: 18.860574782135647\n",
      "Cost after iteration 600: 18.838029609944353\n",
      "Cost after iteration 700: 18.462708517500886\n",
      "Cost after iteration 800: 18.273200081790712\n",
      "Cost after iteration 900: 18.216676668401576\n",
      "Cost after iteration 1000: 18.052823974412718\n",
      "Cost after iteration 1100: 17.933686596996214\n",
      "Cost after iteration 1200: 17.903966866996615\n",
      "Cost after iteration 1300: 17.81764847547403\n",
      "Cost after iteration 1400: 17.74270917474376\n",
      "Cost after iteration 1500: 17.745836974570448\n",
      "Cost after iteration 1600: 17.686345485328545\n",
      "Cost after iteration 1700: 17.63641890481917\n",
      "Cost after iteration 1800: 17.59294591127666\n",
      "Cost after iteration 1900: 17.61739103589796\n",
      "Cost after iteration 2000: 17.581587193207877\n",
      "Cost after iteration 2100: 17.547531098919688\n",
      "Cost after iteration 2200: 17.513131757208612\n",
      "Cost after iteration 2300: 17.514579693700533\n",
      "Cost after iteration 2400: 17.53015616879547\n",
      "Cost after iteration 2500: 17.507775428850643\n",
      "Cost after iteration 2600: 17.482952834787532\n",
      "Cost after iteration 2700: 17.45677835679549\n",
      "Cost after iteration 2800: 17.429906883333604\n",
      "Cost after iteration 2900: 17.402520897426644\n",
      "Cost after iteration 3000: 17.63793909134478\n",
      "Cost after iteration 3100: 17.441878913465928\n",
      "Cost after iteration 3200: 17.423888271422115\n",
      "Cost after iteration 3300: 17.403570636290066\n",
      "Cost after iteration 3400: 17.381913818537555\n",
      "Cost after iteration 3500: 17.359329038168042\n",
      "Cost after iteration 3600: 17.33578810251947\n",
      "Cost after iteration 3700: 17.31109527286652\n",
      "Cost after iteration 3800: 21.407029210478047\n",
      "Cost after iteration 3900: 17.344358078351718\n",
      "Cost after iteration 4000: 17.329682302641597\n",
      "Cost after iteration 4100: 17.31236407131072\n",
      "Cost after iteration 4200: 17.293802328513824\n",
      "Cost after iteration 4300: 17.27420087869134\n",
      "Cost after iteration 4400: 17.253514990580125\n",
      "Cost after iteration 4500: 17.231865815013965\n",
      "Cost after iteration 4600: 17.21345123828141\n",
      "Cost after iteration 4700: 17.245834903110243\n",
      "Cost after iteration 4800: 17.234259932026532\n",
      "Cost after iteration 4900: 17.21844271527032\n",
      "Test RMSE: 4.1024732815134\n",
      "Test MSE: 16.830287025531323\n",
      "Test Rsquare: 0.7704974937848658\n",
      "Mean squared error: 16.83\n",
      "Variance score: 0.77\n"
     ]
    }
   ],
   "source": [
    "def predict(X, parameters, layers_dims):\n",
    "    A = X.T\n",
    "    for l in range(1, len(layers_dims)):\n",
    "        A_prev = A\n",
    "        W = parameters['W' + str(l)]\n",
    "        b = parameters['b' + str(l)]\n",
    "        A = linear_activation_forward(A_prev, W, b)\n",
    "    return A\n",
    "\n",
    "def rmse(predictions, targets):\n",
    "    MSE = 0\n",
    "    MSE = pow(predictions - targets, 2).mean()\n",
    "    RMSE = math.sqrt(MSE)\n",
    "    return RMSE\n",
    "\n",
    "def rsquare(predictions, targets):\n",
    "    MSE = 0\n",
    "    MSE = pow(predictions - targets, 2).mean()\n",
    "    Rsquare = 1 - MSE / np.var(targets)\n",
    "    return Rsquare\n",
    "\n",
    "def mse(predictions, targets):\n",
    "    MSE = 0\n",
    "    MSE = pow(predictions - targets, 2).mean()\n",
    "    return MSE\n",
    "\n",
    "# 使用测试集进行预测\n",
    "predictions = predict(X_test, parameters, layers_dims).flatten()\n",
    "\n",
    "# 计算性能指标\n",
    "test_rmse = rmse(predictions, y_test)\n",
    "test_r2 = rsquare(predictions, y_test)\n",
    "test_mse = mse(predictions, y_test)\n",
    "\n",
    "print(f\"Test RMSE: {test_rmse}\")\n",
    "print(f\"Test MSE: {test_mse}\")\n",
    "print(f\"Test Rsquare: {test_r2}\")\n",
    "\n",
    "print(\"Mean squared error: %.2f\" % mean_squared_error(predictions, y_test))\n",
    "print('Variance score: %.2f' % explained_variance_score(y_test, predictions))"
   ]
  },
  {
   "cell_type": "markdown",
   "id": "f705a6b0-1938-46d1-ac8a-0e72eee6f0cb",
   "metadata": {},
   "source": [
    "# 调用sklearn中MLP回归方法"
   ]
  },
  {
   "cell_type": "markdown",
   "id": "62db6ccd-227f-49ce-8f3a-e95e64b4ccfc",
   "metadata": {},
   "source": [
    "## 安装依赖"
   ]
  },
  {
   "cell_type": "code",
   "execution_count": null,
   "id": "ed3df3cc-de92-4314-9e39-2407249ef39b",
   "metadata": {},
   "outputs": [],
   "source": [
    "import numpy as np\n",
    "import math\n",
    "import pandas as pd\n",
    "from sklearn.model_selection import train_test_split\n",
    "from sklearn.neural_network import MLPRegressor\n",
    "from sklearn.preprocessing import StandardScaler\n",
    "from sklearn.metrics import mean_squared_error,explained_variance_score"
   ]
  },
  {
   "cell_type": "markdown",
   "id": "e750e76c-be9a-44b0-a13c-f23fbe73877f",
   "metadata": {},
   "source": [
    "## 获取数据集"
   ]
  },
  {
   "cell_type": "code",
   "execution_count": null,
   "id": "28b736ab-bfe1-424b-93c6-84af5ba6c516",
   "metadata": {},
   "outputs": [],
   "source": [
    "def load_data():\n",
    "    data_url = \"http://lib.stat.cmu.edu/datasets/boston\"\n",
    "    raw_df = pd.read_csv(data_url, sep=\"\\s+\", skiprows=22, header=None)\n",
    "    print(raw_df.shape)\n",
    "    data = np.hstack([raw_df.values[::2, :], raw_df.values[1::2, :2]])\n",
    "    target = raw_df.values[1::2, 2]\n",
    "    X = data\n",
    "    y = target\n",
    "    X_train, X_test, y_train, y_test = train_test_split(X, y, test_size=0.2, random_state=42)\n",
    "    #标准化特征\n",
    "    scale = StandardScaler()\n",
    "    X_train_s = scale.fit_transform(X_train)\n",
    "    X_test_s = scale.transform(X_test)\n",
    "    return X_train_s, y_train, X_test_s, y_test"
   ]
  },
  {
   "cell_type": "markdown",
   "id": "0022cfc0-1325-444e-a526-f6cdaa7f5763",
   "metadata": {},
   "source": [
    "## 加载数据进行训练"
   ]
  },
  {
   "cell_type": "code",
   "execution_count": null,
   "id": "be0ca0ed-9c94-4f46-a06a-f51be97d2cae",
   "metadata": {},
   "outputs": [],
   "source": [
    "X_train, y_train, X_test, y_test = load_data()\n",
    "regr = MLPRegressor(hidden_layer_sizes=(100,50), activation='relu', random_state=1, max_iter=5000).fit(X_train, y_train)"
   ]
  },
  {
   "cell_type": "markdown",
   "id": "950efdcf-20a8-4878-a3d8-d7f30c74f64e",
   "metadata": {},
   "source": [
    "## 预测并对结果进行评价"
   ]
  },
  {
   "cell_type": "code",
   "execution_count": 6,
   "id": "5c14248c-362b-4fee-84e2-42175e7220bc",
   "metadata": {},
   "outputs": [
    {
     "name": "stdout",
     "output_type": "stream",
     "text": [
      "(1012, 11)\n",
      "RMSE: 3.6094, MSE: 13.0280, Rsquare: 0.8223\n",
      "Mean squared error: 13.03\n",
      "Variance score: 0.83\n"
     ]
    }
   ],
   "source": [
    "y_pred = regr.predict(X_test)\n",
    "regr.score(X_test, y_test)\n",
    "MSE = 0\n",
    "MSE = pow(y_pred-y_test,2).mean()\n",
    "RMSE = math.sqrt(MSE)\n",
    "Rsquare = 1-MSE/np.var(y_test)\n",
    "print(f\"RMSE: {RMSE:0.4f}, MSE: {MSE:0.4f}, Rsquare: {Rsquare:0.4f}\")\n",
    "\n",
    "print(\"Mean squared error: %.2f\" % mean_squared_error(y_pred, y_test))\n",
    "print('Variance score: %.2f' % explained_variance_score(y_test, y_pred))"
   ]
  }
 ],
 "metadata": {
  "kernelspec": {
   "display_name": "Python 3 (ipykernel)",
   "language": "python",
   "name": "python3"
  },
  "language_info": {
   "codemirror_mode": {
    "name": "ipython",
    "version": 3
   },
   "file_extension": ".py",
   "mimetype": "text/x-python",
   "name": "python",
   "nbconvert_exporter": "python",
   "pygments_lexer": "ipython3",
   "version": "3.8.19"
  }
 },
 "nbformat": 4,
 "nbformat_minor": 5
}
